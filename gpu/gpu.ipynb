{
 "cells": [
  {
   "cell_type": "code",
   "execution_count": 1,
   "id": "d9d4895d-958e-428c-8ac6-622a7003a40a",
   "metadata": {},
   "outputs": [],
   "source": [
    "using Revise\n",
    "using GLMakie, LinearAlgebra, StaticArrays, BenchmarkTools, Statistics, Distributions, ProgressMeter\n",
    "using CUDA\n",
    "\n",
    "includet(\"cuda.jl\");\n",
    "const SVec2 = SVector{2, Float32};"
   ]
  },
  {
   "cell_type": "code",
   "execution_count": 2,
   "id": "a598fe68",
   "metadata": {},
   "outputs": [],
   "source": [
    "N = 10000\n",
    "positions = 10 .* (rand(SVec2, N) .- Ref(SA[0.5f0,0.5f0]));\n",
    "positions = cu(positions);\n",
    "velocities = zero(positions);\n",
    "fx = CUDA.zeros(N); fy = CUDA.zeros(N);"
   ]
  },
  {
   "cell_type": "code",
   "execution_count": 3,
   "id": "bc60d6dc",
   "metadata": {},
   "outputs": [
    {
     "data": {
      "text/plain": [
       "GLMakie.Screen(...)"
      ]
     },
     "metadata": {},
     "output_type": "display_data"
    }
   ],
   "source": [
    "fig = Figure(resolution = (1800, 1800)); ax = Axis(fig[1,1], xticks = -10:1:10, yticks = -10:1:10)\n",
    "node = Observable(Array(positions))\n",
    "scatter!(ax, node, markersize = 10)\n",
    "r = maximum(first, positions)\n",
    "# xlims!(ax, -1.5r, 1.5r)\n",
    "# ylims!(ax, -1.5r, 1.5r)\n",
    "r = Observable(1.1maximum(first, positions))\n",
    "on(node) do _\n",
    "    r[] = 0.98r[] + 0.02*1.1maximum(first, positions)\n",
    "    xlims!(ax, -r[], r[])\n",
    "    ylims!(ax, -r[], r[])\n",
    "end\n",
    "# arrows!(ax, first.(Array(positions)), last.(Array(positions)), Array(fx) ./ 1000, Array(fy) ./ 1000, arrowsize = 5)\n",
    "display(fig)"
   ]
  },
  {
   "cell_type": "code",
   "execution_count": 442,
   "id": "181b0a7d",
   "metadata": {},
   "outputs": [],
   "source": [
    "for _ in 1:10000\n",
    "    for _ in 1:10\n",
    "        cellinds, perm, firsts = sortbycells(positions)\n",
    "        positions = positions[perm]\n",
    "        velocities = velocities[perm]\n",
    "        force!(fx, fy, positions, cellinds, firsts)\n",
    "        velocities .+= SVec2.(fx, fy) ./ 10000\n",
    "        velocities .-= 0.0005.*positions\n",
    "\n",
    "        T = 0.5mean(v -> dot(v, v), velocities)\n",
    "        dT = 1e-2 * (0.4 - T)\n",
    "        velocities .*= sqrt((T + dT) / T)\n",
    "\n",
    "        positions .+= velocities ./ 1000\n",
    "    end\n",
    "    ispressed(fig, Keyboard.escape) && break\n",
    "    node[] = Array(positions)\n",
    "end"
   ]
  },
  {
   "cell_type": "code",
   "execution_count": 171,
   "id": "8273afca",
   "metadata": {},
   "outputs": [
    {
     "data": {
      "text/plain": [
       "BenchmarkTools.Trial: 1797 samples with 7 evaluations.\n",
       " Range \u001b[90m(\u001b[39m\u001b[36m\u001b[1mmin\u001b[22m\u001b[39m … \u001b[35mmax\u001b[39m\u001b[90m):  \u001b[39m\u001b[36m\u001b[1m  3.714 μs\u001b[22m\u001b[39m … \u001b[35m  4.173 ms\u001b[39m  \u001b[90m┊\u001b[39m GC \u001b[90m(\u001b[39mmin … max\u001b[90m): \u001b[39m0.00% … 0.00%\n",
       " Time  \u001b[90m(\u001b[39m\u001b[34m\u001b[1mmedian\u001b[22m\u001b[39m\u001b[90m):     \u001b[39m\u001b[34m\u001b[1m 13.829 μs               \u001b[22m\u001b[39m\u001b[90m┊\u001b[39m GC \u001b[90m(\u001b[39mmedian\u001b[90m):    \u001b[39m0.00%\n",
       " Time  \u001b[90m(\u001b[39m\u001b[32m\u001b[1mmean\u001b[22m\u001b[39m ± \u001b[32mσ\u001b[39m\u001b[90m):   \u001b[39m\u001b[32m\u001b[1m397.560 μs\u001b[22m\u001b[39m ± \u001b[32m837.327 μs\u001b[39m  \u001b[90m┊\u001b[39m GC \u001b[90m(\u001b[39mmean ± σ\u001b[90m):  \u001b[39m0.00% ± 0.00%\n",
       "\n",
       "  \u001b[34m█\u001b[39m\u001b[39m \u001b[39m \u001b[39m \u001b[39m \u001b[39m \u001b[39m \u001b[39m \u001b[39m \u001b[39m \u001b[32m \u001b[39m\u001b[39m \u001b[39m \u001b[39m \u001b[39m \u001b[39m \u001b[39m \u001b[39m \u001b[39m \u001b[39m \u001b[39m \u001b[39m \u001b[39m \u001b[39m \u001b[39m \u001b[39m \u001b[39m \u001b[39m \u001b[39m \u001b[39m \u001b[39m \u001b[39m \u001b[39m \u001b[39m \u001b[39m \u001b[39m \u001b[39m \u001b[39m \u001b[39m \u001b[39m \u001b[39m \u001b[39m \u001b[39m \u001b[39m \u001b[39m \u001b[39m \u001b[39m \u001b[39m \u001b[39m \u001b[39m \u001b[39m \u001b[39m \u001b[39m▁\u001b[39m▁\u001b[39m▁\u001b[39m▂\u001b[39m▁\u001b[39m \u001b[39m \u001b[39m \u001b[39m \u001b[39m \u001b[39m \n",
       "  \u001b[34m█\u001b[39m\u001b[39m▇\u001b[39m▃\u001b[39m▁\u001b[39m▄\u001b[39m▃\u001b[39m▃\u001b[39m▃\u001b[39m▅\u001b[39m▅\u001b[32m▁\u001b[39m\u001b[39m▄\u001b[39m▄\u001b[39m▅\u001b[39m▃\u001b[39m▄\u001b[39m▁\u001b[39m▃\u001b[39m▄\u001b[39m▁\u001b[39m▄\u001b[39m▃\u001b[39m▁\u001b[39m▁\u001b[39m▄\u001b[39m▃\u001b[39m▁\u001b[39m▁\u001b[39m▃\u001b[39m▄\u001b[39m▁\u001b[39m▁\u001b[39m▁\u001b[39m▃\u001b[39m▃\u001b[39m▁\u001b[39m▁\u001b[39m▁\u001b[39m▃\u001b[39m▁\u001b[39m▁\u001b[39m▁\u001b[39m▄\u001b[39m▁\u001b[39m▃\u001b[39m▁\u001b[39m▃\u001b[39m▃\u001b[39m▅\u001b[39m▁\u001b[39m▅\u001b[39m▇\u001b[39m█\u001b[39m█\u001b[39m█\u001b[39m█\u001b[39m█\u001b[39m█\u001b[39m█\u001b[39m▅\u001b[39m▆\u001b[39m \u001b[39m█\n",
       "  3.71 μs\u001b[90m       \u001b[39m\u001b[90mHistogram: \u001b[39m\u001b[90m\u001b[1mlog(\u001b[22m\u001b[39m\u001b[90mfrequency\u001b[39m\u001b[90m\u001b[1m)\u001b[22m\u001b[39m\u001b[90m by time\u001b[39m       2.42 ms \u001b[0m\u001b[1m<\u001b[22m\n",
       "\n",
       " Memory estimate\u001b[90m: \u001b[39m\u001b[33m1.56 KiB\u001b[39m, allocs estimate\u001b[90m: \u001b[39m\u001b[33m27\u001b[39m."
      ]
     },
     "metadata": {},
     "output_type": "display_data"
    }
   ],
   "source": [
    "@benchmark count!($counts, $positions, $cellinds, $firsts)"
   ]
  },
  {
   "cell_type": "code",
   "execution_count": 132,
   "id": "66ee21fd-03bf-4790-87e5-d719a70ee613",
   "metadata": {},
   "outputs": [
    {
     "data": {
      "text/plain": [
       "4334"
      ]
     },
     "metadata": {},
     "output_type": "display_data"
    }
   ],
   "source": [
    "c = 0\n",
    "P = Array(positions)\n",
    "for i in 1:length(P), j in 1:length(P)\n",
    "    if norm(P[i] - P[j]) < 1\n",
    "        c += 1\n",
    "    end\n",
    "end\n",
    "c"
   ]
  },
  {
   "cell_type": "code",
   "execution_count": 168,
   "id": "8b239ea1-d824-46f7-aeb5-5d6868b4295d",
   "metadata": {},
   "outputs": [
    {
     "data": {
      "text/plain": [
       "10000-element Vector{Int64}:\n",
       " 33\n",
       " 34\n",
       " 42\n",
       " 35\n",
       " 35\n",
       " 42\n",
       " 43\n",
       " 42\n",
       " 37\n",
       " 40\n",
       "  ⋮\n",
       " 36\n",
       " 43\n",
       " 36\n",
       " 43\n",
       " 38\n",
       " 44\n",
       " 36\n",
       " 35\n",
       " 50"
      ]
     },
     "metadata": {},
     "output_type": "display_data"
    }
   ],
   "source": [
    "P = Array(positions)\n",
    "C = map(1:length(P)) do i\n",
    "    c = 0\n",
    "    for j in 1:length(P)\n",
    "        if norm(P[i] - P[j]) < 1\n",
    "            c += 1\n",
    "        end\n",
    "    end\n",
    "    c\n",
    "end\n",
    "C"
   ]
  },
  {
   "cell_type": "code",
   "execution_count": 1,
   "id": "bb753021",
   "metadata": {},
   "outputs": [
    {
     "data": {
      "text/plain": [
       "1"
      ]
     },
     "metadata": {},
     "output_type": "display_data"
    }
   ],
   "source": [
    "1"
   ]
  },
  {
   "cell_type": "code",
   "execution_count": null,
   "id": "e2431edc",
   "metadata": {},
   "outputs": [],
   "source": [
    "\n",
    "Y = cu(X)\n",
    "@time sort!(X, by = morton);\n",
    "CUDA.@time sort!(Y, by = morton);"
   ]
  },
  {
   "cell_type": "code",
   "execution_count": 74,
   "id": "f27721e0-ea63-4cc9-b426-2baa1b8fdf6c",
   "metadata": {},
   "outputs": [
    {
     "data": {
      "text/plain": [
       "10000-element Vector{Int64}:\n",
       "    1\n",
       "    1\n",
       "    1\n",
       "    1\n",
       "    1\n",
       "    2\n",
       "    2\n",
       "    2\n",
       "    2\n",
       "    3\n",
       "    3\n",
       "    3\n",
       "    3\n",
       "    3\n",
       "    3\n",
       "    4\n",
       "    4\n",
       "    5\n",
       "    6\n",
       "    6\n",
       "    ⋮\n",
       " 3841\n",
       " 3841\n",
       " 3841\n",
       " 3841\n",
       " 3841\n",
       " 3842\n",
       " 3842\n",
       " 3842\n",
       " 3842\n",
       " 3842\n",
       " 3842\n",
       " 3842\n",
       " 3843\n",
       " 3843\n",
       " 3844\n",
       " 3844\n",
       " 3844\n",
       " 3844\n",
       " 3844\n",
       " 3844"
      ]
     },
     "execution_count": 74,
     "metadata": {},
     "output_type": "execute_result"
    }
   ],
   "source": [
    "Int.(Array(morton.(Y)))"
   ]
  },
  {
   "cell_type": "code",
   "execution_count": 208,
   "id": "37ca3c84-8a7a-4d6f-a398-d3242699e60a",
   "metadata": {},
   "outputs": [
    {
     "data": {
      "text/plain": [
       "cu_plot (generic function with 2 methods)"
      ]
     },
     "metadata": {},
     "output_type": "display_data"
    }
   ],
   "source": [
    "function cu_plot(positions; T=Float32, N=1024, resolution=(800, 600))\n",
    "    fig = Figure(; resolution)\n",
    "    ax = Axis(fig[1, 1]; limits=(0, 1, 0, 1))\n",
    "    screen = display(fig)\n",
    "\n",
    "    buffer = GLMakie.GLAbstraction.GLBuffer(Point2f, N)\n",
    "    resource = let\n",
    "        ref = Ref{CUDA.CUgraphicsResource}()\n",
    "        CUDA.cuGraphicsGLRegisterBuffer(ref, buffer.id, CUDA.CU_GRAPHICS_MAP_RESOURCE_FLAGS_WRITE_DISCARD)\n",
    "        ref[]\n",
    "    end\n",
    "\n",
    "    CUDA.cuGraphicsMapResources(1, [resource], stream())\n",
    "\n",
    "    # get a CuArray object that we can work with\n",
    "    array = let\n",
    "        ptr_ref = Ref{CUDA.CUdeviceptr}()\n",
    "        numbytes_ref = Ref{Csize_t}()\n",
    "        CUDA.cuGraphicsResourceGetMappedPointer_v2(ptr_ref, numbytes_ref, resource)\n",
    "\n",
    "        ptr = reinterpret(CuPtr{Point2f}, ptr_ref[])\n",
    "        len = Int(numbytes_ref[] ÷ sizeof(Point2f))\n",
    "\n",
    "        unsafe_wrap(CuArray, ptr, len)\n",
    "    end\n",
    "\n",
    "    broadcast!(array, positions) do p\n",
    "        return Point2f(p...)\n",
    "    end\n",
    "\n",
    "    synchronize()\n",
    "\n",
    "    CUDA.cuGraphicsUnmapResources(1, [resource], stream())\n",
    "\n",
    "    scatter!(ax, buffer)\n",
    "\n",
    "    GLMakie.render_frame(screen; resize_buffers=false)\n",
    "    GLMakie.glFinish()\n",
    "\n",
    "    CUDA.cuGraphicsUnregisterResource(resource)\n",
    "\n",
    "    return\n",
    "end"
   ]
  },
  {
   "cell_type": "code",
   "execution_count": 230,
   "id": "32920806",
   "metadata": {},
   "outputs": [
    {
     "data": {
      "text/plain": [
       "(:glscreen, :shader_cache, :framebuffer, :config, :stop_renderloop, :rendertask, :screen2scene, :screens, :renderlist, :postprocessors, :cache, :cache2plot, :framecache, :render_tick, :window_open, :root_scene, :reuse, :close_after_renderloop, :requires_update)"
      ]
     },
     "metadata": {},
     "output_type": "display_data"
    }
   ],
   "source": [
    "screen = display(scatter(rand(SVec2, 1024)))\n",
    "propertynames(screen)"
   ]
  },
  {
   "cell_type": "code",
   "execution_count": 243,
   "id": "e49492e7",
   "metadata": {},
   "outputs": [
    {
     "data": {
      "text/plain": [
       "Dict{Symbol, GLMakie.GLAbstraction.Texture} with 6 entries:\n",
       "  :color      => Texture2D, ID: 1, Size: (800, 600)…\n",
       "  :OIT_weight => Texture2D, ID: 5, Size: (800, 600)…\n",
       "  :HDR_color  => Texture2D, ID: 4, Size: (800, 600)…\n",
       "  :depth      => Texture2D, ID: 3, Size: (800, 600)…\n",
       "  :objectid   => Texture2D, ID: 2, Size: (800, 600)…\n",
       "  :stencil    => Texture2D, ID: 3, Size: (800, 600)…"
      ]
     },
     "metadata": {},
     "output_type": "display_data"
    }
   ],
   "source": [
    "screen.framebuffer.buffers"
   ]
  },
  {
   "cell_type": "code",
   "execution_count": 248,
   "id": "04fb2e70",
   "metadata": {},
   "outputs": [
    {
     "data": {
      "text/plain": [
       "(:parent, :events, :px_area, :clear, :camera, :camera_controls, :transformation, :plots, :theme, :children, :current_screens, :backgroundcolor, :visible, :ssao, :lights, :deregister_callbacks)"
      ]
     },
     "metadata": {},
     "output_type": "display_data"
    }
   ],
   "source": [
    "propertynames(screen.screens[3][2])"
   ]
  },
  {
   "cell_type": "code",
   "execution_count": null,
   "id": "be3c49e4-9976-4192-8857-a8c2370669ff",
   "metadata": {},
   "outputs": [],
   "source": []
  },
  {
   "cell_type": "code",
   "execution_count": null,
   "id": "a5cb58de-0187-4610-8494-ca4d4cbb0ecb",
   "metadata": {},
   "outputs": [],
   "source": []
  },
  {
   "cell_type": "code",
   "execution_count": null,
   "id": "f46ccaaf-064d-4d5f-8d5c-af93351b00d8",
   "metadata": {},
   "outputs": [],
   "source": []
  },
  {
   "cell_type": "code",
   "execution_count": null,
   "id": "50b201a4-34ef-4d12-bbe3-ca777b2d7c5f",
   "metadata": {},
   "outputs": [],
   "source": []
  },
  {
   "cell_type": "code",
   "execution_count": null,
   "id": "d7184a90-955f-47c3-bc82-3e2cd5451c8f",
   "metadata": {},
   "outputs": [],
   "source": []
  }
 ],
 "metadata": {
  "kernelspec": {
   "display_name": "Julia 1.9.3",
   "language": "julia",
   "name": "julia-1.9"
  },
  "language_info": {
   "file_extension": ".jl",
   "mimetype": "application/julia",
   "name": "julia",
   "version": "1.9.3"
  }
 },
 "nbformat": 4,
 "nbformat_minor": 5
}
