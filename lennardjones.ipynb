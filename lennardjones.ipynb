{
 "cells": [
  {
   "cell_type": "code",
   "execution_count": 1,
   "id": "d2e44cba-54be-4f6c-bac9-f173ff111600",
   "metadata": {},
   "outputs": [
    {
     "name": "stderr",
     "output_type": "stream",
     "text": [
      "\u001b[32m\u001b[1m  Activating\u001b[22m\u001b[39m project at `c:\\Users\\schul\\Dropbox\\projects\\lennardjones\\LennardJones`\n",
      "\u001b[36m\u001b[1m[ \u001b[22m\u001b[39m\u001b[36m\u001b[1mInfo: \u001b[22m\u001b[39mPrecompiling LennardJones [b7bc67b8-9769-4801-b804-6cddaa9720ed]\n"
     ]
    }
   ],
   "source": [
    "using Revise\n",
    "using Pkg\n",
    "Pkg.activate(\"LennardJones\")\n",
    "using GLMakie, LennardJones, LinearAlgebra, StaticArrays, BenchmarkTools, Statistics, Distributions, ImageFiltering\n",
    "GLMakie.activate!(renderloop = GLMakie.fps_renderloop, vsync = false, fxaa = false, ssao = false);\n",
    "Makie.FPS[] = 60;\n",
    "LennardJones.darktheme!();"
   ]
  },
  {
   "cell_type": "code",
   "execution_count": 6,
   "id": "f1a6d0c9-e609-4599-a382-67f881f01fc2",
   "metadata": {
    "tags": []
   },
   "outputs": [
    {
     "name": "stderr",
     "output_type": "stream",
     "text": [
      "\u001b[33m\u001b[1m┌ \u001b[22m\u001b[39m\u001b[33m\u001b[1mWarning: \u001b[22m\u001b[39merror closing screen\n",
      "\u001b[33m\u001b[1m│ \u001b[22m\u001b[39m  exception =\n",
      "\u001b[33m\u001b[1m│ \u001b[22m\u001b[39m   MethodError: no method matching (::LennardJones.var\"#407#467\"{Observable{Bool}})(::Bool)\n",
      "\u001b[33m\u001b[1m│ \u001b[22m\u001b[39m   Stacktrace:\n",
      "\u001b[33m\u001b[1m│ \u001b[22m\u001b[39m    [1] \u001b[0m\u001b[1m#invokelatest#2\u001b[22m\n",
      "\u001b[33m\u001b[1m│ \u001b[22m\u001b[39m   \u001b[90m   @\u001b[39m \u001b[90m.\\\u001b[39m\u001b[90m\u001b[4messentials.jl:816\u001b[24m\u001b[39m\u001b[90m [inlined]\u001b[39m\n",
      "\u001b[33m\u001b[1m│ \u001b[22m\u001b[39m    [2] \u001b[0m\u001b[1minvokelatest\u001b[22m\n",
      "\u001b[33m\u001b[1m│ \u001b[22m\u001b[39m   \u001b[90m   @\u001b[39m \u001b[90m.\\\u001b[39m\u001b[90m\u001b[4messentials.jl:813\u001b[24m\u001b[39m\u001b[90m [inlined]\u001b[39m\n",
      "\u001b[33m\u001b[1m│ \u001b[22m\u001b[39m    [3] \u001b[0m\u001b[1mnotify\u001b[22m\n",
      "\u001b[33m\u001b[1m│ \u001b[22m\u001b[39m   \u001b[90m   @\u001b[39m \u001b[90mC:\\Users\\schul\\.julia\\packages\\Observables\\PHGQ8\\src\\\u001b[39m\u001b[90m\u001b[4mObservables.jl:169\u001b[24m\u001b[39m\u001b[90m [inlined]\u001b[39m\n",
      "\u001b[33m\u001b[1m│ \u001b[22m\u001b[39m    [4] \u001b[0m\u001b[1msetindex!\u001b[22m\n",
      "\u001b[33m\u001b[1m│ \u001b[22m\u001b[39m   \u001b[90m   @\u001b[39m \u001b[90mC:\\Users\\schul\\.julia\\packages\\Observables\\PHGQ8\\src\\\u001b[39m\u001b[90m\u001b[4mObservables.jl:86\u001b[24m\u001b[39m\u001b[90m [inlined]\u001b[39m\n",
      "\u001b[33m\u001b[1m│ \u001b[22m\u001b[39m    [5] \u001b[0m\u001b[1mclose\u001b[22m\u001b[0m\u001b[1m(\u001b[22m\u001b[90mscreen\u001b[39m::\u001b[0mGLMakie.Screen\u001b[90m{GLFW.Window}\u001b[39m; \u001b[90mreuse\u001b[39m::\u001b[0mBool\u001b[0m\u001b[1m)\u001b[22m\n",
      "\u001b[33m\u001b[1m│ \u001b[22m\u001b[39m   \u001b[90m   @\u001b[39m \u001b[35mGLMakie\u001b[39m \u001b[90mC:\\Users\\schul\\.julia\\packages\\GLMakie\\XSSSf\\src\\\u001b[39m\u001b[90m\u001b[4mscreen.jl:588\u001b[24m\u001b[39m\n",
      "\u001b[33m\u001b[1m│ \u001b[22m\u001b[39m    [6] \u001b[0m\u001b[1mclose\u001b[22m\n",
      "\u001b[33m\u001b[1m│ \u001b[22m\u001b[39m   \u001b[90m   @\u001b[39m \u001b[90mC:\\Users\\schul\\.julia\\packages\\GLMakie\\XSSSf\\src\\\u001b[39m\u001b[90m\u001b[4mscreen.jl:583\u001b[24m\u001b[39m\u001b[90m [inlined]\u001b[39m\n",
      "\u001b[33m\u001b[1m│ \u001b[22m\u001b[39m    [7] \u001b[0m\u001b[1mrenderloop\u001b[22m\u001b[0m\u001b[1m(\u001b[22m\u001b[90mscreen\u001b[39m::\u001b[0mGLMakie.Screen\u001b[90m{GLFW.Window}\u001b[39m\u001b[0m\u001b[1m)\u001b[22m\n",
      "\u001b[33m\u001b[1m│ \u001b[22m\u001b[39m   \u001b[90m   @\u001b[39m \u001b[35mGLMakie\u001b[39m \u001b[90mC:\\Users\\schul\\.julia\\packages\\GLMakie\\XSSSf\\src\\\u001b[39m\u001b[90m\u001b[4mscreen.jl:906\u001b[24m\u001b[39m\n",
      "\u001b[33m\u001b[1m│ \u001b[22m\u001b[39m    [8] \u001b[0m\u001b[1m(::GLMakie.var\"#69#70\"{GLMakie.Screen{GLFW.Window}})\u001b[22m\u001b[0m\u001b[1m(\u001b[22m\u001b[0m\u001b[1m)\u001b[22m\n",
      "\u001b[33m\u001b[1m│ \u001b[22m\u001b[39m   \u001b[90m   @\u001b[39m \u001b[35mGLMakie\u001b[39m \u001b[90m.\\\u001b[39m\u001b[90m\u001b[4mtask.jl:514\u001b[24m\u001b[39m\n",
      "\u001b[33m\u001b[1m└ \u001b[22m\u001b[39m\u001b[90m@ GLMakie C:\\Users\\schul\\.julia\\packages\\GLMakie\\XSSSf\\src\\screen.jl:908\u001b[39m\n"
     ]
    }
   ],
   "source": [
    "GLMakie.closeall()\n",
    "fig, plt, node, screen, runfunc, renderfunc = LennardJones.main();"
   ]
  },
  {
   "cell_type": "code",
   "execution_count": 9,
   "id": "bf5b25d7",
   "metadata": {},
   "outputs": [
    {
     "data": {
      "text/plain": [
       "-220.21280708923615"
      ]
     },
     "execution_count": 9,
     "metadata": {},
     "output_type": "execute_result"
    }
   ],
   "source": [
    "LennardJones.virial(node[])"
   ]
  },
  {
   "cell_type": "code",
   "execution_count": 63,
   "id": "f3bb7926",
   "metadata": {},
   "outputs": [
    {
     "data": {
      "text/plain": [
       "GLMakie.Screen(...)"
      ]
     },
     "execution_count": 63,
     "metadata": {},
     "output_type": "execute_result"
    }
   ],
   "source": [
    "display(lines(imfilter(rand(100), KernelFactors.gaussian(5))))"
   ]
  }
 ],
 "metadata": {
  "kernelspec": {
   "display_name": "Julia 1.9.0",
   "language": "julia",
   "name": "julia-1.9"
  },
  "language_info": {
   "file_extension": ".jl",
   "mimetype": "application/julia",
   "name": "julia",
   "version": "1.9.0"
  }
 },
 "nbformat": 4,
 "nbformat_minor": 5
}
