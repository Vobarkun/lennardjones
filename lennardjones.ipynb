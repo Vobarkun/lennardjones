{
 "cells": [
  {
   "cell_type": "code",
   "execution_count": 1,
   "id": "d2e44cba-54be-4f6c-bac9-f173ff111600",
   "metadata": {},
   "outputs": [
    {
     "name": "stderr",
     "output_type": "stream",
     "text": [
      "\u001b[32m\u001b[1m  Activating\u001b[22m\u001b[39m project at `c:\\Users\\schul\\Dropbox\\projects\\lennardjones\\LennardJones`\n",
      "\u001b[36m\u001b[1m[ \u001b[22m\u001b[39m\u001b[36m\u001b[1mInfo: \u001b[22m\u001b[39mPrecompiling LennardJones [b7bc67b8-9769-4801-b804-6cddaa9720ed]\n"
     ]
    }
   ],
   "source": [
    "using Revise\n",
    "using Pkg\n",
    "Pkg.activate(\"LennardJones\")\n",
    "using GLMakie, LennardJones, LinearAlgebra, StaticArrays, BenchmarkTools, Statistics\n",
    "GLMakie.activate!(renderloop = GLMakie.fps_renderloop, vsync = false, fxaa = false, ssao = false);\n",
    "Makie.FPS[] = 60;"
   ]
  },
  {
   "cell_type": "code",
   "execution_count": 2,
   "id": "adfbc689",
   "metadata": {},
   "outputs": [],
   "source": [
    "LennardJones.darktheme!()"
   ]
  },
  {
   "cell_type": "code",
   "execution_count": 8,
   "id": "f1a6d0c9-e609-4599-a382-67f881f01fc2",
   "metadata": {
    "tags": []
   },
   "outputs": [],
   "source": [
    "GLMakie.closeall()\n",
    "fig, plt, node, screen = LennardJones.main();"
   ]
  },
  {
   "cell_type": "code",
   "execution_count": null,
   "id": "d8739387",
   "metadata": {},
   "outputs": [],
   "source": [
    "# pentagonal crystal: lj 1.8, sw 0.7\n",
    "# nitinol: coulomb 0.4, lj 1.3, σ 0.35"
   ]
  },
  {
   "cell_type": "code",
   "execution_count": null,
   "id": "9aff1d89",
   "metadata": {},
   "outputs": [],
   "source": []
  }
 ],
 "metadata": {
  "kernelspec": {
   "display_name": "Julia 1.9.0",
   "language": "julia",
   "name": "julia-1.9"
  },
  "language_info": {
   "file_extension": ".jl",
   "mimetype": "application/julia",
   "name": "julia",
   "version": "1.9.0"
  }
 },
 "nbformat": 4,
 "nbformat_minor": 5
}
