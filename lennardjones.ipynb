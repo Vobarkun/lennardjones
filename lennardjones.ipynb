{
 "cells": [
  {
   "cell_type": "code",
   "execution_count": 1,
   "id": "d2e44cba-54be-4f6c-bac9-f173ff111600",
   "metadata": {},
   "outputs": [
    {
     "name": "stderr",
     "output_type": "stream",
     "text": [
      "\u001b[32m\u001b[1m  Activating\u001b[22m\u001b[39m project at `c:\\Users\\schul\\Dropbox\\projects\\lennardjones\\LennardJones`\n",
      "\u001b[36m\u001b[1m[ \u001b[22m\u001b[39m\u001b[36m\u001b[1mInfo: \u001b[22m\u001b[39mPrecompiling LennardJones [b7bc67b8-9769-4801-b804-6cddaa9720ed]\n"
     ]
    }
   ],
   "source": [
    "using Revise\n",
    "using Pkg\n",
    "Pkg.activate(\"LennardJones\")\n",
    "using GLMakie, LennardJones, LinearAlgebra, StaticArrays, BenchmarkTools, Statistics\n",
    "GLMakie.activate!(renderloop = GLMakie.fps_renderloop, vsync = false, fxaa = false, ssao = false);"
   ]
  },
  {
   "cell_type": "code",
   "execution_count": 13,
   "id": "f1a6d0c9-e609-4599-a382-67f881f01fc2",
   "metadata": {
    "tags": []
   },
   "outputs": [],
   "source": [
    "GLMakie.closeall()\n",
    "with_theme(theme_dark()) do\n",
    "    fig, plt, node, screen = LennardJones.main();\n",
    "end;"
   ]
  },
  {
   "cell_type": "code",
   "execution_count": 42,
   "id": "c2f83296",
   "metadata": {},
   "outputs": [
    {
     "data": {
      "text/plain": [
       "(-187.0, 1030.0)"
      ]
     },
     "execution_count": 42,
     "metadata": {},
     "output_type": "execute_result"
    }
   ],
   "source": [
    "events(fig).mouseposition[]"
   ]
  },
  {
   "cell_type": "code",
   "execution_count": 116,
   "id": "262a5670",
   "metadata": {},
   "outputs": [
    {
     "data": {
      "text/plain": [
       "GLMakie.Screen(...)"
      ]
     },
     "execution_count": 116,
     "metadata": {},
     "output_type": "execute_result"
    }
   ],
   "source": [
    "fig.scene.current_screens[1]"
   ]
  },
  {
   "cell_type": "code",
   "execution_count": 77,
   "id": "04b24271",
   "metadata": {},
   "outputs": [
    {
     "data": {
      "text/plain": [
       "GLMakie.Screen(...)"
      ]
     },
     "execution_count": 77,
     "metadata": {},
     "output_type": "execute_result"
    }
   ],
   "source": [
    "ts = times[times .!= 0] ./ 1e9\n",
    "dts = ts[3:end] .- ts[2:end-1]\n",
    "display(lines(ts[2:end-1] .- ts[1], 1 ./ dts))"
   ]
  },
  {
   "cell_type": "code",
   "execution_count": 27,
   "id": "d689d823",
   "metadata": {},
   "outputs": [
    {
     "ename": "LoadError",
     "evalue": "UndefVarError: `primary_resolution` not defined",
     "output_type": "error",
     "traceback": [
      "UndefVarError: `primary_resolution` not defined",
      "",
      "Stacktrace:",
      " [1] getproperty(x::Module, f::Symbol)",
      "   @ Base .\\Base.jl:31",
      " [2] top-level scope",
      "   @ In[27]:1"
     ]
    }
   ],
   "source": [
    "Makie.primary_resolution()"
   ]
  }
 ],
 "metadata": {
  "kernelspec": {
   "display_name": "Julia 1.9.0",
   "language": "julia",
   "name": "julia-1.9"
  },
  "language_info": {
   "file_extension": ".jl",
   "mimetype": "application/julia",
   "name": "julia",
   "version": "1.9.0"
  }
 },
 "nbformat": 4,
 "nbformat_minor": 5
}
