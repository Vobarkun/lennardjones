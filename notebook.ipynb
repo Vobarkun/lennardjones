{
 "cells": [
  {
   "cell_type": "code",
   "execution_count": 2,
   "id": "d2e44cba-54be-4f6c-bac9-f173ff111600",
   "metadata": {},
   "outputs": [],
   "source": [
    "using Revise\n",
    "using LennardJones\n",
    "using GLMakie, LennardJones\n",
    "GLMakie.activate!(renderloop = GLMakie.fps_renderloop, vsync = false, fxaa = false, ssao = false);\n",
    "Makie.FPS[] = 60;\n",
    "LennardJones.darktheme!();"
   ]
  },
  {
   "cell_type": "code",
   "execution_count": 15,
   "id": "f1a6d0c9-e609-4599-a382-67f881f01fc2",
   "metadata": {
    "tags": []
   },
   "outputs": [],
   "source": [
    "GLMakie.closeall()\n",
    "LennardJones.darktheme!();\n",
    "fig, plt, node, screen, runfunc, renderfunc = LennardJones.main();"
   ]
  },
  {
   "cell_type": "code",
   "execution_count": null,
   "id": "6c9cc4a7",
   "metadata": {},
   "outputs": [],
   "source": [
    "node[]"
   ]
  },
  {
   "cell_type": "code",
   "execution_count": 6,
   "id": "f0053a54",
   "metadata": {},
   "outputs": [
    {
     "data": {
      "text/plain": [
       "0"
      ]
     },
     "execution_count": 6,
     "metadata": {},
     "output_type": "execute_result"
    }
   ],
   "source": [
    "LennardJones.neighborsPerParticle(node[])"
   ]
  },
  {
   "cell_type": "code",
   "execution_count": 54,
   "id": "0ebdd87d",
   "metadata": {},
   "outputs": [
    {
     "data": {
      "text/plain": [
       "2"
      ]
     },
     "execution_count": 54,
     "metadata": {},
     "output_type": "execute_result"
    }
   ],
   "source": [
    "get([], 1, 2)"
   ]
  },
  {
   "cell_type": "code",
   "execution_count": 9,
   "id": "bf5b25d7",
   "metadata": {},
   "outputs": [
    {
     "data": {
      "text/plain": [
       "-220.21280708923615"
      ]
     },
     "execution_count": 9,
     "metadata": {},
     "output_type": "execute_result"
    }
   ],
   "source": [
    "LennardJones.virial(node[])"
   ]
  },
  {
   "cell_type": "code",
   "execution_count": 63,
   "id": "f3bb7926",
   "metadata": {},
   "outputs": [
    {
     "data": {
      "text/plain": [
       "GLMakie.Screen(...)"
      ]
     },
     "execution_count": 63,
     "metadata": {},
     "output_type": "execute_result"
    }
   ],
   "source": [
    "display(lines(imfilter(rand(100), KernelFactors.gaussian(5))))"
   ]
  }
 ],
 "metadata": {
  "kernelspec": {
   "display_name": "Julia 1.10.2",
   "language": "julia",
   "name": "julia-1.10"
  },
  "language_info": {
   "file_extension": ".jl",
   "mimetype": "application/julia",
   "name": "julia",
   "version": "1.10.2"
  }
 },
 "nbformat": 4,
 "nbformat_minor": 5
}
