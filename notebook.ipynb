{
 "cells": [
  {
   "cell_type": "code",
   "execution_count": 1,
   "id": "d2e44cba-54be-4f6c-bac9-f173ff111600",
   "metadata": {},
   "outputs": [],
   "source": [
    "using Revise\n",
    "using LennardJones\n",
    "using GLMakie, Chairmarks\n",
    "GLMakie.activate!(renderloop = GLMakie.fps_renderloop, vsync = false, fxaa = false, ssao = false);\n",
    "Makie.FPS[] = 60\n",
    "LennardJones.darktheme!();"
   ]
  },
  {
   "cell_type": "code",
   "execution_count": 8,
   "id": "84621d2a",
   "metadata": {},
   "outputs": [
    {
     "data": {
      "text/plain": [
       "Enum Makie.Mouse.Button:\n",
       "left = 0\n",
       "middle = 2\n",
       "right = 1\n",
       "none = -1\n",
       "button_4 = 3\n",
       "button_5 = 4\n",
       "button_6 = 5\n",
       "button_7 = 6\n",
       "button_8 = 7"
      ]
     },
     "metadata": {},
     "output_type": "display_data"
    }
   ],
   "source": [
    "typeof(LennardJones.keymap[1][2])"
   ]
  },
  {
   "cell_type": "code",
   "execution_count": 10,
   "id": "1145178b",
   "metadata": {},
   "outputs": [
    {
     "data": {
      "text/plain": [
       "ObserverFunction defined at /Users/steffen/Library/CloudStorage/Dropbox/projects/lennardjones/jl_notebook_cell_df34fa98e69747e1a8f8a730347b8e2f_X21sZmlsZQ==.jl:3 operating on Observable(MouseButtonEvent(none, release))"
      ]
     },
     "metadata": {},
     "output_type": "display_data"
    }
   ],
   "source": [
    "fig = Figure(); display(fig)\n",
    "on(events(fig).mousebutton) do event\n",
    "    println(event)\n",
    "end"
   ]
  },
  {
   "cell_type": "code",
   "execution_count": null,
   "id": "e10588cc",
   "metadata": {},
   "outputs": [],
   "source": []
  },
  {
   "cell_type": "code",
   "execution_count": 2,
   "id": "3526ef71",
   "metadata": {},
   "outputs": [
    {
     "data": {
      "text/html": [
       "# 1 method for generic function <b>renderloop</b> from \u001b[35mGLMakie\u001b[39m:<ul><li> renderloop(screen) in GLMakie at <a href=\"file:///Users/steffen/.julia/packages/GLMakie/m1hRX/src/screen.jl\" target=\"_blank\">/Users/steffen/.julia/packages/GLMakie/m1hRX/src/screen.jl:1059</a></li> </ul>"
      ],
      "text/plain": [
       "# 1 method for generic function \"renderloop\" from \u001b[35mGLMakie\u001b[39m:\n",
       " [1] renderloop(\u001b[90mscreen\u001b[39m)\n",
       "\u001b[90m     @\u001b[39m \u001b[90m~/.julia/packages/GLMakie/m1hRX/src/\u001b[39m\u001b[90m\u001b[4mscreen.jl:1059\u001b[24m\u001b[39m"
      ]
     },
     "metadata": {},
     "output_type": "display_data"
    }
   ],
   "source": [
    "methods(GLMakie.renderloop)"
   ]
  },
  {
   "cell_type": "code",
   "execution_count": 28,
   "id": "d3009a71",
   "metadata": {},
   "outputs": [],
   "source": [
    "GLMakie.closeall()"
   ]
  },
  {
   "cell_type": "code",
   "execution_count": 3,
   "id": "8b0df8dd",
   "metadata": {},
   "outputs": [
    {
     "data": {
      "text/plain": [
       "Tuple{Pair{Symbol, Makie.Mouse.Button}, Pair{Symbol, Makie.Mouse.Button}, Pair{Symbol, Makie.Keyboard.Button}, Pair{Symbol, Makie.Mouse.Button}, Vararg{Pair{Symbol, Makie.Keyboard.Button}, 11}}"
      ]
     },
     "metadata": {},
     "output_type": "display_data"
    }
   ],
   "source": [
    "typeof(LennardJones.keymap)"
   ]
  },
  {
   "cell_type": "code",
   "execution_count": 27,
   "id": "a7c01d59",
   "metadata": {},
   "outputs": [],
   "source": [
    "LennardJones.main(lang = :de, history = true);"
   ]
  },
  {
   "cell_type": "code",
   "execution_count": 3,
   "id": "970cb668",
   "metadata": {},
   "outputs": [
    {
     "data": {
      "text/plain": [
       "DELL P2721Q Monitor (2560x1440@60Hz)"
      ]
     },
     "metadata": {},
     "output_type": "display_data"
    }
   ],
   "source": [
    "GLMakie.GLFW.GetMonitors()[2]"
   ]
  },
  {
   "cell_type": "code",
   "execution_count": null,
   "id": "df1185ed",
   "metadata": {},
   "outputs": [],
   "source": []
  },
  {
   "cell_type": "code",
   "execution_count": 12,
   "id": "6e29b6c5",
   "metadata": {},
   "outputs": [
    {
     "data": {
      "text/plain": [
       "1.750286389440649e9"
      ]
     },
     "metadata": {},
     "output_type": "display_data"
    }
   ],
   "source": [
    "t = time()"
   ]
  },
  {
   "cell_type": "code",
   "execution_count": 54,
   "id": "22c6802d",
   "metadata": {},
   "outputs": [
    {
     "data": {
      "text/plain": [
       "11.509936094284058"
      ]
     },
     "metadata": {},
     "output_type": "display_data"
    }
   ],
   "source": [
    "time() - t"
   ]
  },
  {
   "cell_type": "code",
   "execution_count": 18,
   "id": "f0053a54",
   "metadata": {},
   "outputs": [
    {
     "ename": "UndefVarError",
     "evalue": "UndefVarError: `node` not defined in `Main`\nSuggestion: check for spelling errors or missing imports.",
     "output_type": "error",
     "traceback": [
      "UndefVarError: `node` not defined in `Main`\n",
      "Suggestion: check for spelling errors or missing imports.\n",
      "\n",
      "Stacktrace:\n",
      " [1] top-level scope\n",
      "   @ ~/Library/CloudStorage/Dropbox/projects/lennardjones/jl_notebook_cell_df34fa98e69747e1a8f8a730347b8e2f_W5sZmlsZQ==.jl:1"
     ]
    }
   ],
   "source": [
    "lj = deepcopy(node[]);"
   ]
  },
  {
   "cell_type": "code",
   "execution_count": 82,
   "id": "4bafbb58",
   "metadata": {},
   "outputs": [
    {
     "data": {
      "text/plain": [
       "Benchmark: 1581 samples with 1 evaluation\n",
       " min    56.041 μs\n",
       " median 58.250 μs\n",
       " mean   60.513 μs\n",
       " max    113.917 μs"
      ]
     },
     "metadata": {},
     "output_type": "display_data"
    }
   ],
   "source": [
    "@be LennardJones.forces!($lj, cutoff = LennardJones.getcutoff($lj) / 2)"
   ]
  },
  {
   "cell_type": "code",
   "execution_count": 74,
   "id": "7061f4a0",
   "metadata": {},
   "outputs": [
    {
     "data": {
      "text/plain": [
       "Benchmark: 940 samples with 1 evaluation\n",
       " min    96.375 μs (2 allocs: 4.031 KiB)\n",
       " median 99.083 μs (2 allocs: 4.031 KiB)\n",
       " mean   101.431 μs (2 allocs: 4.031 KiB)\n",
       " max    152.916 μs (2 allocs: 4.031 KiB)"
      ]
     },
     "metadata": {},
     "output_type": "display_data"
    }
   ],
   "source": [
    "@be LennardJones.step!($lj, dt = 1e-6)"
   ]
  },
  {
   "cell_type": "code",
   "execution_count": 9,
   "id": "bf5b25d7",
   "metadata": {},
   "outputs": [
    {
     "data": {
      "text/plain": [
       "-220.21280708923615"
      ]
     },
     "execution_count": 9,
     "metadata": {},
     "output_type": "execute_result"
    }
   ],
   "source": [
    "LennardJones.virial(node[])"
   ]
  },
  {
   "cell_type": "code",
   "execution_count": 63,
   "id": "f3bb7926",
   "metadata": {},
   "outputs": [
    {
     "data": {
      "text/plain": [
       "GLMakie.Screen(...)"
      ]
     },
     "execution_count": 63,
     "metadata": {},
     "output_type": "execute_result"
    }
   ],
   "source": [
    "display(lines(imfilter(rand(100), KernelFactors.gaussian(5))))"
   ]
  }
 ],
 "metadata": {
  "kernelspec": {
   "display_name": "Julia 1.11.5",
   "language": "julia",
   "name": "julia-1.11"
  },
  "language_info": {
   "file_extension": ".jl",
   "mimetype": "application/julia",
   "name": "julia",
   "version": "1.11.5"
  }
 },
 "nbformat": 4,
 "nbformat_minor": 5
}
